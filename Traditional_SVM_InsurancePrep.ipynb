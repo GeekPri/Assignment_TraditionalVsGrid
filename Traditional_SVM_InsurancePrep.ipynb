{
 "cells": [
  {
   "cell_type": "code",
   "execution_count": 1,
   "id": "7f78bb38-6ac7-4fa5-b6c9-77739297d113",
   "metadata": {},
   "outputs": [
    {
     "name": "stdout",
     "output_type": "stream",
     "text": [
      ",,,,,,,,,,,,2.Scalar Vector Model (SVM) --Start,,,,,,,,,,,,,,,,,,,,,,,,,\n",
      "===================================\n",
      "===================================\n",
      "kernel_V poly\n",
      "degree_V 2\n",
      "gamma_V  1\n",
      "C_V  1\n",
      "epsilon_V  0.001\n",
      "r2_score 0.8538275261915709\n",
      "----------------------------\n",
      "===================================\n",
      ",,,,,,,,,,,,,,,,,2.Scalar Vector Model (SVM) Complete,,,,,,,,,,,,,,,,,,,,\n"
     ]
    }
   ],
   "source": [
    "# Data Collection\n",
    "import pandas as pd\n",
    "dataset = pd.read_csv(\"insurance_pre.csv\")\n",
    " \n",
    "dataset= pd.get_dummies(dataset, drop_first= True) # removes the duplicate infering column\n",
    "\n",
    "#Identify the Input and Output\n",
    "independent = dataset[['age', 'bmi', 'children', 'sex_male', 'smoker_yes']]\n",
    "dependent = dataset['charges']\n",
    "\n",
    "#split to train and test data\n",
    "from sklearn.model_selection import train_test_split\n",
    "X_train, X_test, Y_train, Y_test = train_test_split(independent, dependent, test_size= 0.3, random_state= 0) \n",
    "\n",
    "##################2.Scalar Vector Model (SVM) #################\n",
    "#possible Hyper tuning params: sklearn.svm.SVR(*, kernel='rbf', degree=3, gamma='scale', coef0=0.0, tol=0.001, C=1.0, epsilon=0.1, shrinking=True, cache_size=200, verbose=False, max_iter=-1)\n",
    "from sklearn.svm import SVR\n",
    "def calculateModelR2Score_SVM(kernel_V, degree_V, gamma_V, C_V, epsilon_V):\n",
    "    regressor = SVR(kernel=kernel_V, degree=degree_V, gamma=gamma_V, C=C_V, epsilon=epsilon_V )\n",
    "    regressor = regressor.fit(X_train, Y_train)\n",
    "    \n",
    "    #test using the test data\n",
    "    y_pred = regressor.predict(X_test)\n",
    "    \n",
    "    # evalulate metrics R2 score\n",
    "    from sklearn.metrics import r2_score\n",
    "    r_score = r2_score(Y_test, y_pred)\n",
    "    \n",
    "    if r_score >0.85 :\n",
    "        print(\"kernel_V\", kernel_V) \n",
    "        print(\"degree_V\", degree_V)\n",
    "        print(\"gamma_V \", gamma_V)\n",
    "        print(\"C_V \", C_V)\n",
    "        print(\"epsilon_V \", epsilon_V)\n",
    "        print(\"r2_score\", r_score)\n",
    "        print(\"----------------------------\") \n",
    "\n",
    "kernel_List= ['rbf', 'linear', 'poly']\n",
    "C_List= [1] #0.1, 1, 10, 100]\n",
    "gamma_List= [1] #['scale', 'auto', 0.01, 0.1, 1]\n",
    "epsilon_List= [0.001] #, 0.01, 0.1, 1.0]\n",
    "degree_List= [2] #, 3, 4]  \n",
    "\n",
    "print(\",,,,,,,,,,,,2.Scalar Vector Model (SVM) --Start,,,,,,,,,,,,,,,,,,,,,,,,,\")\n",
    "for kernel_V in kernel_List:\n",
    "    for degree_V in degree_List:\n",
    "        for gamma_V in gamma_List:\n",
    "                    for C_V in C_List:\n",
    "                        for epsilon_V in epsilon_List:\n",
    "                            calculateModelR2Score_SVM(kernel_V, degree_V, gamma_V, C_V, epsilon_V)  \n",
    "                            print(\"===================================\")\n",
    "   # print(\"+++++++++++++++\")\n",
    "print(\",,,,,,,,,,,,,,,,,2.Scalar Vector Model (SVM) Complete,,,,,,,,,,,,,,,,,,,,\")\n",
    "\n",
    " "
   ]
  },
  {
   "cell_type": "code",
   "execution_count": null,
   "id": "b509af36-405d-4859-833d-e1bbb4632957",
   "metadata": {},
   "outputs": [],
   "source": []
  }
 ],
 "metadata": {
  "kernelspec": {
   "display_name": "Python [conda env:base] *",
   "language": "python",
   "name": "conda-base-py"
  },
  "language_info": {
   "codemirror_mode": {
    "name": "ipython",
    "version": 3
   },
   "file_extension": ".py",
   "mimetype": "text/x-python",
   "name": "python",
   "nbconvert_exporter": "python",
   "pygments_lexer": "ipython3",
   "version": "3.12.7"
  }
 },
 "nbformat": 4,
 "nbformat_minor": 5
}
