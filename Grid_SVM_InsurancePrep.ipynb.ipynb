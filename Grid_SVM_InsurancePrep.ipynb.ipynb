{
 "cells": [
  {
   "cell_type": "code",
   "execution_count": 7,
   "id": "7f78bb38-6ac7-4fa5-b6c9-77739297d113",
   "metadata": {},
   "outputs": [
    {
     "name": "stdout",
     "output_type": "stream",
     "text": [
      "Fitting 5 folds for each of 1 candidates, totalling 5 fits\n",
      "Printing best param after tuning:  {'C': 1, 'degree': 2, 'epsilon': 0.001, 'gamma': 1, 'kernel': 'poly'}  best score:  0.7859504893902588\n",
      "SVR  result PredictedInsuranceCharges 32,43,2,0, 0 [5345.73769888]\n",
      "SVR  result PredictedInsuranceCharges 32,43,2,0, 1 [43424.41896038]\n"
     ]
    },
    {
     "name": "stderr",
     "output_type": "stream",
     "text": [
      "C:\\Users\\mpriy\\anaconda3\\Lib\\site-packages\\sklearn\\base.py:493: UserWarning: X does not have valid feature names, but SVR was fitted with feature names\n",
      "  warnings.warn(\n",
      "C:\\Users\\mpriy\\anaconda3\\Lib\\site-packages\\sklearn\\base.py:493: UserWarning: X does not have valid feature names, but SVR was fitted with feature names\n",
      "  warnings.warn(\n"
     ]
    }
   ],
   "source": [
    "#without standardScaler Printing best param after tuning:  {'C': 3000, 'degree': 2, 'epsilon': 0.001, 'gamma': 'auto', 'kernel': 'poly'}  best score:  0.7953098791902102\n",
    "#with Standard Printing best param after tuning:  {'C': 3000, 'degree': 2, 'epsilon': 0.001, 'gamma': 'auto', 'kernel': 'poly'}  best score:  0.5528085200077476\n",
    "# Data Collection\n",
    "import pandas as pd\n",
    "dataset = pd.read_csv(\"insurance_pre.csv\")\n",
    " \n",
    " \n",
    "# Data preprocessing\n",
    "#convert the classification(non numerical) data to Numerical\n",
    "dataset= pd.get_dummies(dataset, drop_first= True) # removes the duplicate infering column\n",
    "\n",
    "#Identify the Input and Output\n",
    "independent = dataset[['age', 'bmi', 'children', 'sex_male', 'smoker_yes']]\n",
    "dependent = dataset['charges']\n",
    "\n",
    "#split to train and test data\n",
    "from sklearn.model_selection import train_test_split\n",
    "X_train, X_test, Y_train, Y_test = train_test_split(independent, dependent, test_size= 0.3, random_state= 0)\n",
    "\n",
    "#standardize the input\n",
    "from sklearn.preprocessing import StandardScaler\n",
    "sc = StandardScaler()\n",
    "#X_train = sc.fit_transform(X_train)\n",
    "#X_test = sc.fit_transform(X_test)\n",
    "\n",
    "from sklearn.model_selection import GridSearchCV\n",
    "from sklearn.svm import SVR\n",
    "\n",
    "param_grid = {'kernel': [ 'poly'], #'linear', 'poly', 'sigmoid'],\n",
    "              'C': [1], #1], #, 10, 100, 1000, 3000],\n",
    "              'gamma': [1], #scale'], #, 'auto'],\n",
    "              'degree': [2],\n",
    "              'epsilon' :  [0.001]\n",
    "             }\n",
    "\n",
    "grid = GridSearchCV(SVR(), param_grid, refit = True, verbose = 3, n_jobs = -1)\n",
    "\n",
    "#create the model for all the Grid combinations\n",
    "grid.fit(X_train, Y_train)\n",
    "\n",
    "print(\"Printing best param after tuning: \", grid.best_params_, \" best score: \", grid.best_score_)\n",
    "\n",
    "best_SVR_model = grid.best_estimator_\n",
    "y_prediction_best_SVR_model = best_SVR_model.predict([[32,43,2,0, 0]])\n",
    "print (\"SVR  result PredictedInsuranceCharges 32,43,2,0, 0\" , y_prediction_best_SVR_model)\n",
    "\n",
    "y_prediction_best_SVR_model_1 = best_SVR_model.predict([[32,43,2,0, 1]])\n",
    "print (\"SVR  result PredictedInsuranceCharges 32,43,2,0, 1\" , y_prediction_best_SVR_model_1)\n",
    "       "
   ]
  },
  {
   "cell_type": "code",
   "execution_count": 5,
   "id": "d8cbc6da-076c-4dc4-a562-c34d153d82e9",
   "metadata": {},
   "outputs": [
    {
     "name": "stdout",
     "output_type": "stream",
     "text": [
      "Printing best param NO tuning:  {'C': 3000, 'degree': 2, 'epsilon': 0.001, 'gamma': 'auto', 'kernel': 'poly'}  best score:  0.7953098791902102\n",
      "SVR  result PredictedInsuranceCharges 32,43,2,0, 0 [5543.67474196]\n",
      "SVR  result PredictedInsuranceCharges 32,43,2,0, 1 [45793.56607697]\n"
     ]
    },
    {
     "name": "stderr",
     "output_type": "stream",
     "text": [
      "C:\\Users\\mpriy\\anaconda3\\Lib\\site-packages\\sklearn\\base.py:493: UserWarning: X does not have valid feature names, but SVR was fitted with feature names\n",
      "  warnings.warn(\n",
      "C:\\Users\\mpriy\\anaconda3\\Lib\\site-packages\\sklearn\\base.py:493: UserWarning: X does not have valid feature names, but SVR was fitted with feature names\n",
      "  warnings.warn(\n"
     ]
    }
   ],
   "source": [
    "print(\"Printing best param NO tuning: \", grid.best_params_, \" best score: \", grid.best_score_)\n",
    "\n",
    "best_SVR_model = grid.best_estimator_\n",
    "y_prediction_best_SVR_model = best_SVR_model.predict([[32,43,2,0, 0]])\n",
    "print (\"SVR  result PredictedInsuranceCharges 32,43,2,0, 0\" , y_prediction_best_SVR_model)\n",
    "\n",
    "y_prediction_best_SVR_model_1 = best_SVR_model.predict([[32,43,2,0, 1]])\n",
    "print (\"SVR  result PredictedInsuranceCharges 32,43,2,0, 1\" , y_prediction_best_SVR_model_1)\n",
    "    "
   ]
  },
  {
   "cell_type": "code",
   "execution_count": null,
   "id": "8c9870e9-cc4e-4d88-b075-2a4c3a5bf533",
   "metadata": {},
   "outputs": [],
   "source": []
  }
 ],
 "metadata": {
  "kernelspec": {
   "display_name": "Python [conda env:base] *",
   "language": "python",
   "name": "conda-base-py"
  },
  "language_info": {
   "codemirror_mode": {
    "name": "ipython",
    "version": 3
   },
   "file_extension": ".py",
   "mimetype": "text/x-python",
   "name": "python",
   "nbconvert_exporter": "python",
   "pygments_lexer": "ipython3",
   "version": "3.12.7"
  }
 },
 "nbformat": 4,
 "nbformat_minor": 5
}
